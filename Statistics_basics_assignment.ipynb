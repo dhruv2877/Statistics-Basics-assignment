{
  "nbformat": 4,
  "nbformat_minor": 0,
  "metadata": {
    "colab": {
      "provenance": []
    },
    "kernelspec": {
      "name": "python3",
      "display_name": "Python 3"
    },
    "language_info": {
      "name": "python"
    }
  },
  "cells": [
    {
      "cell_type": "markdown",
      "source": [
        "# ***Statistics basics assignment***\n",
        "\n",
        "**Thoery Questions**"
      ],
      "metadata": {
        "id": "zwyoqV00vVri"
      }
    },
    {
      "cell_type": "markdown",
      "source": [
        "1. What is Statistics, and Why is it Important?\n",
        "\n",
        " *  Statistics is the mathematical science of collecting, organizing, analyzing, interpreting, and presenting data. It helps us understand patterns, trends, and relationships within data and enables informed decision-making in various fields, including business, healthcare, engineering, and artificial intelligence.\n",
        "\n",
        " Statistics plays a crucial role in various fields due to its ability to extract meaningful insights from data. Below are some of the most important reasons why statistics is essential:\n",
        "\n",
        "*  Helps in Decision Making: Whether it’s a business deciding its marketing strategy or a government planning policies, statistics helps in making informed decisions.\n",
        "\n",
        "*  Raw data can be too much to handle take isights quicly from, statistics allows us to summarize large datasets into simple numbers.\n",
        "\n",
        "*  Forecasting: Statistics is widely used in forecasting future outcomes based on past data. Weather predictions, stock market analysis, and sales forecasts all rely on statistical models.\n",
        "\n",
        "*  Machine Learning and Artificial Intelligence: Statistics is the foundation of machine learning and AI. Algorithms learn patterns from data, which is nothing but statistical analysis on a massive scale."
      ],
      "metadata": {
        "id": "tA164sm07Of0"
      }
    },
    {
      "cell_type": "markdown",
      "source": [
        "2. What Are the Two Main Types of Statistics?\n",
        "  *  There are two types of statistics:\n",
        "\n",
        " i.) Descriptive Statistics: Deals with summarizing and organizing data to make it understandable.\n",
        "\n",
        " ii.) Inferential statistics: Involves making predictions, generalizations, and conclusions about a population based on sample data.\n",
        "\n",
        "* Descriptive statistics:  The type of statistics dealing with numbers (numerical facts, figures, or information) to describe phenomena.\n",
        "These numbers are descriptive statistics.\n",
        "\n",
        "They are used for  organizing, summarizing, and presenting data in a meaningful way. It does not make predictions but helps in understanding what the data shows.\n",
        "\n",
        "\n",
        "---\n",
        "\n",
        "\n",
        "\n",
        "* Inferential Statistics:  Inferential statistics allows us to make predictions or conclusions about a larger group (population) based on data from a smaller sample.\n",
        "\n",
        "Suppose you survey 1000 people about their favorite soft drink, and 60% choose Brand A. Can you conclude that 60% of the entire country prefers Brand A?\n",
        "\n",
        "Not exactly. But using inferential statistics, you can estimate the percentage for the entire country with a margin of error."
      ],
      "metadata": {
        "id": "bCnKMQOq9b87"
      }
    },
    {
      "cell_type": "markdown",
      "source": [
        "3. What Are Descriptive Statistics?\n",
        "\n",
        " *  Descriptive statistics:  The type of statistics dealing with numbers (numerical facts, figures, or information) to describe phenomena.\n",
        "These numbers are descriptive statistics.\n",
        "\n",
        "They are used for  organizing, summarizing, and presenting data in a meaningful way. It does not make predictions but helps in understanding what the data shows.\n",
        "\n",
        "\n",
        "Types of Descriptive Statistics:\n",
        "\n",
        "1. Measures of Central Tendency: These help determine the center of a dataset.\n",
        "*  Mean (average): Sum of all values divided by the number of values.\n",
        "* Median (middle value): The middle number when data is arranged in order.\n",
        "* Mode (most frequent value): The number that appears most often.\n",
        "\n",
        "\n",
        "---\n",
        "\n",
        "\n",
        "2. Measures of Dispersion: These show how spread out the data is.\n",
        "*  Range: Difference between the highest and lowest values.\n",
        "* Variance: Measures how far values deviate from the mean.\n",
        "* Standard Deviation: The square root of variance, showing data spread in the same units as the data.\n",
        "\n",
        "\n",
        "Example: If you collect data on how many hours students study per week, a histogram can show whether most students study for a few hours or many hours."
      ],
      "metadata": {
        "id": "SGysb-QO_2r6"
      }
    },
    {
      "cell_type": "markdown",
      "source": [
        "4. What Is Inferential Statistics?\n",
        " *  Inferential Statistics:  Inferential statistics allows us to make predictions or conclusions about a larger group (population) based on data from a smaller sample.\n",
        "\n",
        " Inferential statistics relies on probability theory to determine how likely it is that findings from a sample apply to an entire population. It uses:\n",
        "\n",
        "i.)  Sampling: Selecting a small group from a larger population.\n",
        "\n",
        "ii.) Probability Theory: Measuring uncertainty and likelihood of an event.\n",
        "\n",
        "iii.) Statistical Tests: Hypothesis testing, confidence intervals, and regression analysis.\n",
        "\n",
        "\n",
        "Types of Inferential Statistics:\n",
        "\n",
        "1. Estimation (Parameter Estimation): This method estimates unknown population parameters based on sample data.\n",
        "\n",
        "* Point Estimation: A single value is used as an estimate.\n",
        "* Interval Estimation: A range of values (confidence interval) is used.\n",
        "\n",
        "\n",
        "---\n",
        "\n",
        "\n",
        "2. Hypothesis Testing: Hypothesis testing determines whether a claim about a population is likely to be true based on sample data.\n",
        "\n",
        "*  Null Hypothesis: Assumes no effect or difference.\n",
        "*  Alternative Hypothesis: Suggests an effect or difference exists.\n",
        "*  p-value: Measures the strength of evidence against the null hypothesis.\n",
        "* Significance Level: The probability threshold for rejecting H₀ (usually 0.05).\n",
        "\n",
        "\n",
        "---\n",
        "\n",
        "\n",
        "3. Regression Analysis: Regression models study relationships between variables and predict future outcomes.\n",
        "\n",
        "*  Linear Regression: Finds a straight-line relationship between two variables.\n",
        "*   Multiple Regression: Uses several independent variables to predict an outcome.\n",
        "\n",
        "\n",
        "---\n",
        "\n",
        "\n",
        "4. Confidence Intervals: Confidence intervals give a range where the true population parameter is likely to fall.\n",
        "\n",
        "\n",
        "\n"
      ],
      "metadata": {
        "id": "j_ASnUM3BVth"
      }
    },
    {
      "cell_type": "markdown",
      "source": [
        "5. What is Sampling in Statistics?\n",
        " *  Sampling is the process of taking a subset (sample) of individuals from a larger group (population) to analyze and make inferences about the entire population. Instead of collecting data from every individual (which is often impractical), a sample helps represent the whole group.\n",
        "\n",
        " Example:  A company wants to study customer satisfaction.\n",
        "\n",
        "Population: All customers.\n",
        "\n",
        "Sample: 1,000 customers randomly selected for the survey.\n",
        "\n",
        "\n",
        "\n",
        "\n",
        "\n"
      ],
      "metadata": {
        "id": "2NXMqYT0Dtrz"
      }
    },
    {
      "cell_type": "markdown",
      "source": [
        "6. What Are the Different Types of Sampling Methods?\n",
        "\n",
        "*  There are two types of Sampling methods:\n",
        "\n",
        "1.  Probability Sampling: Each individual in the population has an equal chance of being selected. This reduces bias and ensures a fair representation.\n",
        "\n",
        "Types of probability sampling:\n",
        "\n",
        "*  Simple Random Sampling (SRS): Every individual has an equal chance of being chosen.\n",
        "* Stratified Sampling: Population is divided into subgroups (strata) based on characteristics, and samples are taken from each.\n",
        "* Systematic Sampling: Selecting every k-th individual from a list.\n",
        "* Cluster Sampling: The population is divided into clusters (groups), and some clusters are randomly selected.\n",
        "\n",
        "\n",
        "---\n",
        "\n",
        "\n",
        "2.   Non-Probability Sampling: Not every individual has an equal chance of being chosen.\n",
        "\n",
        "Types of non probability sampling:\n",
        "\n",
        "* Convenience Sampling: Selecting individuals who are easiest to access.\n",
        "* Judgmental Sampling: Selecting individuals based on expert judgment.\n",
        "* Quota Sampling: Ensuring the sample meets specific quotas (e.g., 50% male, 50% female).\n",
        "* Snowball Sampling: Existing participants recruit new participants.\n"
      ],
      "metadata": {
        "id": "EQ05fieJF_DX"
      }
    },
    {
      "cell_type": "markdown",
      "source": [
        "7. What is the Difference Between Random and Non-Random Sampling?\n",
        " *  There are two main types of sampling:\n",
        "\n",
        "Random Sampling: What is the Difference Between Random and Non-Random Sampling?\n",
        "\n",
        "\n",
        "Non-Random sampling: Some individuals have a higher chance of being selected than others, often based on convenience or judgment.\n",
        "\n",
        "* Random Sampling: Random sampling ensures that every individual in the population has an equal and independent chance of being selected. This method minimizes bias and improves the accuracy of statistical conclusions.\n",
        "\n",
        "  Types of Random Sampling:\n",
        "\n",
        "*  Simple Random Sampling (SRS): Every individual has an equal chance of being chosen.\n",
        "* Stratified Sampling: Population is divided into subgroups (strata) based on characteristics, and samples are taken from each.\n",
        "* Systematic Sampling: Selecting every k-th individual from a list.\n",
        "* Cluster Sampling: The population is divided into clusters (groups), and some clusters are randomly selected.\n",
        "\n",
        "\n",
        "---\n",
        "\n",
        "* In non-random sampling, not everyone has an equal chance of being selected. The researcher chooses participants based on convenience, judgment, or quotas. This method may introduce bias but is easier to conduct.\n",
        "\n",
        "\n",
        "\n",
        " Types of Non Random sampling:\n",
        "* Convenience Sampling: Selecting individuals who are easiest to access.\n",
        "* Judgmental Sampling: Selecting individuals based on expert judgment.\n",
        "* Quota Sampling: Ensuring the sample meets specific quotas (e.g., 50% male, 50% female).\n",
        "* Snowball Sampling: Existing participants recruit new participants."
      ],
      "metadata": {
        "id": "s0OhVhNmIzqR"
      }
    },
    {
      "cell_type": "markdown",
      "source": [
        "8. Define and Give Examples of Qualitative and Quantitative Data.\n",
        "\n",
        " *  In statistics, data refers to the raw facts, numbers, or characteristics collected for analysis. Data is broadly classified into two main types:\n",
        "\n",
        "i.) Qualitative Data (Categorical Data): Qualitative data describes non-numerical attributes or categories, describes characteristics, categories, or qualities that cannot be measured in numbers.\n",
        "\n",
        "Example: Blood type (A, B, O, AB), Disease type (Diabetes, Cancer), Student grades (A, B, C, D).\n",
        "\n",
        "\n",
        "\n",
        "Types of qualitatve data:\n",
        "\n",
        "* Nominal Data: Categories without a meaningful order.\n",
        "\n",
        "  Ex: Blood groups (A, B, AB, O), eye color (blue, brown, green), types of fruit (apple, banana, mango).\n",
        "\n",
        "*  Ordinal Data: Categories with a meaningful order but no exact numerical difference.\n",
        "\n",
        " Ex: Customer satisfaction levels (Poor, Average, Good, Excellent), clothing sizes (Small, Medium, Large), education levels (Primary, Secondary, Tertiary).\n",
        "\n",
        "\n",
        "---\n",
        "\n",
        "\n",
        "ii.) Quantitative Data (Numerical Data): Represents numerical values that can be counted or measured.\n",
        "\n",
        "Example: Heart rate (72 bpm), Number of customers (1500).\n",
        "\n",
        "Types of quantitative data:\n",
        "\n",
        "* Discrete Data: Whole numbers; countable, finite values.\n",
        "\n",
        " Example: Number of students in a class (30, 45, 50)\n",
        "\n",
        "* Continuous Data: Measured values with infinite possibilities within a range.\n",
        "\n",
        "  Example: Height of students (165.5 cm, 172.8 cm)\n",
        "\n"
      ],
      "metadata": {
        "id": "0GVZdkWyLGcX"
      }
    },
    {
      "cell_type": "markdown",
      "source": [
        "9. What are different types of data in statistics?\n",
        " *     In statistics, data refers to the raw facts, numbers, or characteristics collected for analysis. Data is broadly classified into two main types:\n",
        "\n",
        "i.) Qualitative Data (Categorical Data): Qualitative data describes non-numerical attributes or categories, describes characteristics, categories, or qualities that cannot be measured in numbers.\n",
        "\n",
        "Example: Blood type (A, B, O, AB), Disease type (Diabetes, Cancer), Student grades (A, B, C, D).\n",
        "\n",
        "\n",
        "\n",
        "Types of qualitatve data:\n",
        "\n",
        "* Nominal Data: Categories without a meaningful order.\n",
        "\n",
        "  Ex: Blood groups (A, B, AB, O), eye color (blue, brown, green), types of fruit (apple, banana, mango).\n",
        "\n",
        "*  Ordinal Data: Categories with a meaningful order but no exact numerical difference.\n",
        "\n",
        " Ex: Customer satisfaction levels (Poor, Average, Good, Excellent), clothing sizes (Small, Medium, Large), education levels (Primary, Secondary, Tertiary).\n",
        "\n",
        "\n",
        "---\n",
        "\n",
        "\n",
        "ii.) Quantitative Data (Numerical Data): Represents numerical values that can be counted or measured.\n",
        "\n",
        "Example: Heart rate (72 bpm), Number of customers (1500).\n",
        "\n",
        "Types of quantitative data:\n",
        "\n",
        "* Discrete Data: Whole numbers; countable, finite values.\n",
        "\n",
        " Example: Number of students in a class (30, 45, 50)\n",
        "\n",
        "* Continuous Data: Measured values with infinite possibilities within a range.\n",
        "\n",
        "  Example: Height of students (165.5 cm, 172.8 cm)\n"
      ],
      "metadata": {
        "id": "0xqBbp6qOICj"
      }
    },
    {
      "cell_type": "markdown",
      "source": [
        "10. Explain Nominal, Ordinal, Interval, and Ratio Levels of Measurement.\n",
        "\n",
        " *  Levels of measurement describe how data is classified and measured. They determine what statistical operations can be applied to the data.\n",
        "\n",
        "There are four levels of measurement, ranked from least to most mathematically useful:\n",
        "\n",
        "* Nominal: Data is classified into categories without any inherent order or ranking. The numbers assigned to categories have no mathematical meaning\n",
        "\n",
        " Examples:\n",
        "\n",
        "           Eye Colour (Blue, Green, Brown).\n",
        "\n",
        "           Blood Type: (A, B, AB, O).\n",
        "\n",
        "           Car Brand (Toyota, Honda, Ford)\n",
        "\n",
        "---\n",
        "\n",
        "\n",
        "* Ordinal: Data is ranked or ordered, but the differences between ranks are not equal or meaningful.\n",
        "\n",
        " Examples:\n",
        "\n",
        "          Customer Satisfaction: (Poor, Fair, Good, Excellent).\n",
        "\n",
        "          Education Level: (High School, Bachelor’s, Master’s, PhD).\n",
        "\n",
        "\n",
        "---\n",
        "\n",
        "\n",
        "* Interval: Numeric values with meaningful differences but no true zero.\n",
        "\n",
        " Example:\n",
        "         \n",
        "         Temperature in Celsius or Fahrenheit: (0°C does not mean \"no temperature\").\n",
        "\n",
        "         Shoe Sizes → (Size 8 is not \"twice as big\" as Size 4)\n",
        "\n",
        "---\n",
        "\n",
        "\n",
        "* Ratio: Numeric values with a true zero, allowing all mathematical operations.\n",
        "\n",
        "   Examples:\n",
        "\n",
        "           Height and Weight: (0 cm means \"no height\", 0 kg means \"no weight\").\n",
        "\n",
        "           Age: (A 40-year-old is twice as old as a 20-year-old).\n",
        "\n",
        "           Distance: (0 km means no distance traveled)."
      ],
      "metadata": {
        "id": "hVioT_nPPMo7"
      }
    },
    {
      "cell_type": "markdown",
      "source": [
        "11. What Is the Measure of Central Tendency?\n",
        " *  A measure of central tendency is a statistical value that represents the center or \"typical\" value of a dataset. It helps summarize large amounts of data into a single value, making it easier to understand distributions.\n",
        "\n",
        "The three main measures of central tendency are:\n",
        "\n",
        "* Mean: The average of all values.\n",
        "\n",
        "* Median: The middle value when data is sorted.\n",
        "\n",
        "* Mode: The most frequently occurring value.\n"
      ],
      "metadata": {
        "id": "LhHYvwwKZPvm"
      }
    },
    {
      "cell_type": "markdown",
      "source": [
        "12. Define mode ,median and mean.\n",
        "\n",
        " *  The mean, median, and mode are statistical measures used to represent the center or typical value of a dataset. They help summarize large amounts of data into a single value.\n",
        "\n",
        "\n",
        "* Mean: The mean is the sum of all values in a dataset divided by the total number of values.\n",
        "\n",
        "Formula = Sum of all values/ No. of values\n",
        "\n",
        " Example:\n",
        "          \n",
        "          Age of 5 students: 10, 12, 14, 16, 18\n",
        "          Mean= 10+12+14+16+18/ 5\n",
        "              = 14\n",
        "          \n",
        "\n",
        "---\n",
        "\n",
        "\n",
        "\n",
        "* Median: The middle value when data is sorted. The median is the middle value in a dataset when arranged in ascending order. If the dataset has an even number of values, the median is the average of the two middle values.\n",
        "\n",
        " Example:\n",
        "          \n",
        "\n",
        "          Example (Odd Number of Values):\n",
        "          Test Scores: 50, 60, 70, 80, 90\n",
        "\n",
        "          Middle value = 70 (Median)\n",
        "\n",
        "\n",
        "* Mode:The mode is the value that appears most frequently in a dataset.\n",
        "\n",
        "  Exapmle:\n",
        "            \n",
        "             Example 1 (Unimodal):\n",
        "            Grades: A, A, B, C, A, B, C, A\n",
        "\n",
        "           Mode = A (appears most often)."
      ],
      "metadata": {
        "id": "efhbgOxfbN4r"
      }
    },
    {
      "cell_type": "markdown",
      "source": [
        "13. What is the significance of the measure of Centeral Tendency?\n",
        " *  A measure of central tendency is a statistical value that represents the center or \"typical\" value of a dataset. It helps summarize large amounts of data into a single value, making it easier to understand distributions.\n",
        "\n",
        "Significances of Measure of Centeral Tendency:\n",
        "\n",
        "* Summarizes Large Datasets: Helps summarize a large amount of data into a single value.\n",
        "\n",
        "* Helps in Comparing Data: Allows comparisons between different groups, populations, or datasets.\n",
        "* Supports Decision-Making: Used in finance, healthcare, and business for data-driven decisions."
      ],
      "metadata": {
        "id": "1KDnBwbPdPNH"
      }
    },
    {
      "cell_type": "markdown",
      "source": [
        "14. What is variance, and how is it calculated?\n",
        " *  The Variance is defined as the average of the squared differences from the Mean.\n",
        "\n",
        " Variance is a statistical measure that quantifies how much each data point deviates from the mean. It shows the spread or dispersion of data values in a dataset. A higher variance indicates that data points are more spread out, while a lower variance means they are closer to the mean.\n",
        "\n",
        " Formulae to calculate variance:\n",
        "\n",
        "*  Population Variance (σ2):\n",
        "\n",
        "                             σ² = (Σ (X_i - μ)²) / N\n",
        "\n",
        "\n",
        "* Sample Variance (s2):\n",
        "                              \n",
        "                          s² = (Σ (X_i - X̄)²) / (n - 1)\n",
        "\n",
        "\n",
        "\n"
      ],
      "metadata": {
        "id": "AcycZqWmd9Xh"
      }
    },
    {
      "cell_type": "markdown",
      "source": [
        "15. What Is Standard Deviation, and Why Is It Important?\n",
        "\n",
        "  *  In statistics, the standard deviation is a very common measure of dispersion. Standard deviation measures\n",
        "how spread out the values in a data set are around the mean. More precisely, it is a measure of the average\n",
        "distance between the values of the data in the set and the mean. If the data values are all similar, then the\n",
        "standard deviation will be low (closer to zero). If the data values are highly variable, then the standard variation\n",
        "is high (further from zero).\n",
        "\n",
        "Importance of standard deviation:\n",
        "\n",
        "*  Measures consistency: Used in finance, research, and business to determine stability.\n",
        "\n",
        "* Identifies risk: High standard deviation means more unpredictability (e.g., stock market).\n",
        "* Helps in decision-making: Used to compare datasets and make predictions.\n"
      ],
      "metadata": {
        "id": "MZKhncv5hS-Q"
      }
    },
    {
      "cell_type": "markdown",
      "source": [
        "16. Define and Explain the Term Range in Statistics\n",
        "\n",
        " *  Range is a simple measure of dispersion (spread) that represents the difference between the highest and lowest values in a dataset. It shows how spread out the data points are but does not indicate how they are distributed between the extremes.\n",
        "\n",
        " Formula for Range:\n",
        "                    Range\n",
        "                         =\n",
        "                           Maximum Value - Minimum Value\n"
      ],
      "metadata": {
        "id": "JoQ-1m8wlakT"
      }
    },
    {
      "cell_type": "markdown",
      "source": [
        "17. What Is the Difference Between Variance and Standard Deviation?\n",
        " *  Both variance and standard deviation are measures of data dispersion (spread) in a dataset. However, they differ in their calculations and interpretations:\n",
        "\n",
        "* Variance measures the average squared deviation from the mean.\n",
        "\n",
        "* Standard deviation is the square root of variance, providing a more interpretable value.\n",
        "\n",
        "* Formula for Variance:\n",
        "\n",
        "                       Population Variance=\n",
        "                       σ² = (Σ (X_i - μ)²) / N\n",
        "\n",
        "                       Sample Variance=\n",
        "                       s² = (Σ (X_i - X̄)²) / (n - 1)\n",
        "\n",
        "\n",
        "* Formula for standard deviation:\n",
        "                                  \n",
        "                                  Population Standard Deviation=\n",
        "                                  σ = sqrt( (Σ (X_i - μ)²) / N )\n",
        "                                   \n",
        "                                   Sample Standard Deviation=\n",
        "                                   s = sqrt( (Σ (X_i - X̄)²) / (n - 1) )\n",
        "\n",
        "\n",
        "\n",
        "\n",
        "                        "
      ],
      "metadata": {
        "id": "dfidmrORmMwm"
      }
    },
    {
      "cell_type": "markdown",
      "source": [
        "18. What is Skewness in a Dataset?\n",
        "\n",
        " *  Skewness is a statistical measure that describes the asymmetry of a dataset’s distribution. It tells us whether the data is symmetrically distributed or has a longer tail on one side.\n",
        "\n",
        "* Positive Skew (Right-Skewed): The tail is longer on the right.\n",
        "* Negative Skew (Left-Skewed): The tail is longer on the left.\n",
        "* Zero Skew (Symmetrical): The data is evenly distributed.\n",
        "\n",
        " Formula:\n",
        "         \n",
        "\n",
        "         Skewness = (3 * (Mean - Median)) / Standard Deviation\n",
        "\n"
      ],
      "metadata": {
        "id": "3o0gHoT1nWBh"
      }
    },
    {
      "cell_type": "markdown",
      "source": [
        "19. What Does It Mean If a Dataset Is Positively or Negatively Skewed?\n",
        "\n",
        " *  Skewness is a statistical measure that describes the asymmetry of a dataset’s distribution. It tells us whether the data is symmetrically distributed or has a longer tail on one side.\n",
        "\n",
        " 1. Positively Skewed Distribution (Right-Skewed):\n",
        "\n",
        "* The tail extends to the right (higher values are more spread out).\n",
        "* Mean > Median > Mode (pulled right by extreme high values)\n",
        "* The majority of data points are concentrated on the left.\n",
        "\n",
        " 2. Negatively Skewed Distribution (Left-Skewed):\n",
        "\n",
        "* The tail extends to the left (lower values are more spread out).\n",
        "* Mean < Median < Mode (pulled left by extreme low values).\n",
        "* The majority of data points are concentrated on the right."
      ],
      "metadata": {
        "id": "QcSPgYdrn-mN"
      }
    },
    {
      "cell_type": "markdown",
      "source": [
        "20. Define and Explain Kurtosis.\n",
        "\n",
        " *  Kurtosis is a statistical measure that describes the \"tailedness\" of a dataset’s distribution. It indicates whether the data has heavy tails (outliers) or light tails (lack of outliers) compared to a normal distribution.\n",
        "\n",
        "* High Kurtosis (Leptokurtic): More extreme values (outliers).\n",
        "* Low Kurtosis (Platykurtic): Fewer extreme values (flatter distribution).\n",
        "* Normal Kurtosis (Mesokurtic): Similar to a normal distribution.\n",
        "\n",
        "\n",
        " Formula for Kurtosis:\n",
        "                      \n",
        "                      Kurtosis = (Σ (X_i - X̄)⁴ / n) / s⁴\n"
      ],
      "metadata": {
        "id": "v0A4JzxypMhz"
      }
    },
    {
      "cell_type": "markdown",
      "source": [
        "21. What Is the Purpose of Covariance?\n",
        " *  Covariance is a statistical measure that indicates the direction of the relationship between two variables. It helps determine whether two variables increase or decrease together (positive covariance) or move in opposite directions (negative covariance).\n",
        "\n",
        "* Positive Covariance: Both variables move in the same direction (increase or decrease together).\n",
        "\n",
        "* Negative Covariance: One variable increases while the other decreases.\n",
        "\n",
        "* Zero Covariance: No relationship between variables.\n",
        "\n",
        "Formula for Covariance:\n",
        "                        \n",
        "                        σxy = Σ [(X_i - μx) * (Y_i - μy)] / N\n",
        "\n",
        "\n",
        ""
      ],
      "metadata": {
        "id": "qc9A8wHZqJXh"
      }
    },
    {
      "cell_type": "markdown",
      "source": [
        "22. What Does Correlation Measure in Statistics?\n",
        "\n",
        " *  Correlation is a statistical measure that quantifies the strength and direction of the relationship between two variables. It tells us how strongly and in what direction two variables are related.\n",
        "\n",
        "* Positive Correlation: Both variables increase or decrease together.\n",
        "* Negative Correlation: One variable increases while the other decreases.\n",
        "* Zero Correlation: No relationship between the variables.\n",
        "\n",
        "Formula for Correlation\n",
        " (Pearson’s Correlation Coefficient, r):\n",
        "                                                               \n",
        "                                        r = (Σ (X_i - X̄) * (Y_i - Ȳ)) / (n * σx * σy)\n",
        "\n",
        "\n",
        ""
      ],
      "metadata": {
        "id": "kpwuCIOMqrdQ"
      }
    },
    {
      "cell_type": "markdown",
      "source": [
        "23. What Are the Differences Between Covariance and Correlation?\n",
        "\n",
        " *  Both covariance and correlation measure the relationship between two variables, but they differ in interpretation and scale:\n",
        "\n",
        "Differences between  covariance and correlation:\n",
        "\n",
        "* Covariance measures the direction of the relationship between two variables, while correlation measures both direction and strength.\n",
        "\n",
        "* Covariance is the average product of deviations from the mean, while correlation is the normalized version of covariance.\n",
        "*  Covariance can take any value from -∞ to +∞, while correlation is always between -1 and +1.\n",
        "* A positive covariance means variables move in the same direction, while a negative covariance means they move in opposite directions. Correlation quantifies this movement on a fixed scale from -1 to +1.\n",
        "* Covariance is affected by unit changes, while correlation remains unchanged when measurement units change.\n",
        "* Covariance is highly sensitive to outliers, while correlation is less affected due to standardization.\n",
        "* Covariance is harder to interpret due to unit dependency, while correlation is easier because of its fixed scale."
      ],
      "metadata": {
        "id": "0qTXKoVLrppZ"
      }
    },
    {
      "cell_type": "markdown",
      "source": [
        "24. What are some real-world applications of statistics ?\n",
        " *  Statistics is used across various industries to analyze data, make predictions, and drive informed decisions. It helps in research, business, healthcare, finance, and technology by uncovering trends and patterns.\n",
        "\n",
        " Some real life uses of statistics are:\n",
        "\n",
        " 1. Business & Marketing:\n",
        "* Companies analyze consumer behavior to improve marketing strategies.\n",
        "* Uses historical data to predict future sales.\n",
        "* Compares two versions of a product or advertisement to see which performs better.\n",
        "\n",
        " 2. Healthcare & Medicine:\n",
        "* Clinical trials use statistics to test new drugs.\n",
        "* Machine learning models predict disease outbreaks.\n",
        "*  Hospitals use statistics to optimize bed allocation and staff scheduling.\n",
        "\n",
        " 3. Finance & Banking:\n",
        "* Uses probability and regression to predict stock prices.\n",
        "* Banks use statistical models to evaluate credit scores.\n",
        "* Identifies unusual transaction patterns to prevent fraud.\n",
        "\n",
        " 4. Education & Research:\n",
        "* Helps teachers evaluate student scores and learning outcomes.\n",
        "* Researchers use statistics to analyze survey responses and test hypotheses.\n",
        "\n",
        " 5. Machine Learning & Artificial Intelligence:\n",
        "*  AI uses statistical models to forecast trends.\n",
        "* Netflix, YouTube, and Spotify use statistics to suggest content.\n",
        "* Statistical models process image data to identify people  \n"
      ],
      "metadata": {
        "id": "Fu2yeUcttfo6"
      }
    },
    {
      "cell_type": "markdown",
      "source": [
        "# **Practical Questions**"
      ],
      "metadata": {
        "id": "lCYTwefGvUQM"
      }
    },
    {
      "cell_type": "code",
      "source": [
        "\"\"\" 1. How do you calculate the mean, median, and mode of a dataset\"\"\"\n",
        "\n",
        "import numpy as np\n",
        "from scipy import stats\n",
        "\n",
        "data = [12, 15, 14, 10, 18, 20, 12, 15, 15, 14]\n",
        "\n",
        "# Calculate Mean\n",
        "mean_value = np.mean(data)\n",
        "\n",
        "# Calculate Median\n",
        "median_value = np.median(data)\n",
        "\n",
        "# Calculate Mode\n",
        "mode_value = stats.mode(data, keepdims=True).mode[0]\n",
        "\n",
        "print(\"Mean:\", mean_value)\n",
        "print(\"Median:\", median_value)\n",
        "print(\"Mode:\", mode_value)\n"
      ],
      "metadata": {
        "colab": {
          "base_uri": "https://localhost:8080/"
        },
        "id": "IErFVkZkvupm",
        "outputId": "4794de92-aca0-411c-afb8-a7361597cf9c"
      },
      "execution_count": 1,
      "outputs": [
        {
          "output_type": "stream",
          "name": "stdout",
          "text": [
            "Mean: 14.5\n",
            "Median: 14.5\n",
            "Mode: 15\n"
          ]
        }
      ]
    },
    {
      "cell_type": "code",
      "source": [
        "\"\"\" 2. Write a Python program to compute the variance and standard deviation of a dataset.\"\"\"\n",
        "\n",
        "import numpy as np\n",
        "\n",
        "data = [12, 15, 14, 10, 18, 20, 12, 15, 15, 14]\n",
        "\n",
        "variance = np.var(data, ddof=0)  # Population variance\n",
        "sample_variance = np.var(data, ddof=1)  # Sample variance\n",
        "\n",
        "std_dev = np.std(data, ddof=0)  # Population standard deviation\n",
        "sample_std_dev = np.std(data, ddof=1)  # Sample standard deviation\n",
        "\n",
        "print(\"Population Variance:\", variance)\n",
        "print(\"Sample Variance:\", sample_variance)\n",
        "print(\"Population Standard Deviation:\", std_dev)\n",
        "print(\"Sample Standard Deviation:\", sample_std_dev)\n"
      ],
      "metadata": {
        "colab": {
          "base_uri": "https://localhost:8080/"
        },
        "id": "CQpZD9BVxBed",
        "outputId": "b3b6f133-1ba7-45e9-b488-1c6f83f48c3c"
      },
      "execution_count": 2,
      "outputs": [
        {
          "output_type": "stream",
          "name": "stdout",
          "text": [
            "Population Variance: 7.65\n",
            "Sample Variance: 8.5\n",
            "Population Standard Deviation: 2.7658633371878665\n",
            "Sample Standard Deviation: 2.9154759474226504\n"
          ]
        }
      ]
    },
    {
      "cell_type": "code",
      "source": [
        "\"\"\" 3. Create a dataset and classify it into nominal, ordinal, interval, and ratio types.\"\"\"\n",
        "\n",
        "import pandas as pd\n",
        "\n",
        "data = {\n",
        "    \"Nominal\": [\"Red\", \"Blue\", \"Green\", \"Yellow\", \"Red\" ],  # Categories without order\n",
        "    \"Ordinal\": [\"Poor\", \"Average\", \"Good\", \"Excellent\", \"Good\" ],  # Ordered categories\n",
        "    \"Interval\": [10, 20, 30, 40, 50],  # No true zero (e.g., temperature in Celsius)\n",
        "    \"Ratio\": [5.5, 10.2, 7.8, 12.3, 9.0]  # True zero exists (e.g., weight, height)\n",
        "}\n",
        "\n",
        "# Creating DataFrame\n",
        "df = pd.DataFrame(data)\n",
        "\n",
        "print(df)\n"
      ],
      "metadata": {
        "colab": {
          "base_uri": "https://localhost:8080/"
        },
        "id": "jveKrg51xUs6",
        "outputId": "09ce69fc-6fa3-4f77-88d4-53572c51b0f9"
      },
      "execution_count": 4,
      "outputs": [
        {
          "output_type": "stream",
          "name": "stdout",
          "text": [
            "  Nominal    Ordinal  Interval  Ratio\n",
            "0     Red       Poor        10    5.5\n",
            "1    Blue    Average        20   10.2\n",
            "2   Green       Good        30    7.8\n",
            "3  Yellow  Excellent        40   12.3\n",
            "4     Red       Good        50    9.0\n"
          ]
        }
      ]
    },
    {
      "cell_type": "code",
      "source": [
        "\"\"\" 4.  Implement sampling techniques like random sampling and stratified sampling.\"\"\"\n",
        "\n",
        "import numpy as np\n",
        "import pandas as pd\n",
        "from sklearn.model_selection import train_test_split\n",
        "\n",
        "data = {\n",
        "    \"ID\": np.arange(1, 21),\n",
        "    \"Category\": np.random.choice([\"A\", \"B\", \"C\"], size=20),  # Categories for stratified sampling\n",
        "    \"Score\": np.random.randint(50, 100, size=20)  # Random scores\n",
        "}\n",
        "\n",
        "df = pd.DataFrame(data)\n",
        "\n",
        "# 1. Simple Random Sampling (Selecting 5 random samples)\n",
        "random_sample = df.sample(n=5, random_state=42)\n",
        "\n",
        "# 2. Stratified Sampling (Ensuring proportionate representation of categories)\n",
        "stratified_sample, _ = train_test_split(df, test_size=0.75, stratify=df[\"Category\"], random_state=42)\n",
        "\n",
        "print(\"Random Sample:\\n\", random_sample)\n",
        "print(\"\\nStratified Sample:\\n\", stratified_sample)\n"
      ],
      "metadata": {
        "colab": {
          "base_uri": "https://localhost:8080/"
        },
        "id": "c6zzy8IuyRup",
        "outputId": "b8dec659-c04e-4529-d0bc-512d470d8519"
      },
      "execution_count": 5,
      "outputs": [
        {
          "output_type": "stream",
          "name": "stdout",
          "text": [
            "Random Sample:\n",
            "     ID Category  Score\n",
            "0    1        A     58\n",
            "17  18        A     98\n",
            "15  16        A     64\n",
            "1    2        C     73\n",
            "8    9        A     88\n",
            "\n",
            "Stratified Sample:\n",
            "     ID Category  Score\n",
            "0    1        A     58\n",
            "14  15        B     80\n",
            "3    4        B     68\n",
            "7    8        A     94\n",
            "1    2        C     73\n"
          ]
        }
      ]
    },
    {
      "cell_type": "code",
      "source": [
        "\"\"\"  5. Write a Python function to calculate the range of a dataset.\"\"\"\n",
        "\n",
        "import numpy as np\n",
        "\n",
        "def calculate_range(data):\n",
        "    return np.max(data) - np.min(data)  # Range = Max - Min\n",
        "\n",
        "# Sample dataset\n",
        "data = [12, 15, 14, 10, 18, 20, 12, 15, 15, 14]\n",
        "\n",
        "# Calculate range\n",
        "range_value = calculate_range(data)\n",
        "\n",
        "print(\"Range of dataset:\", range_value)\n"
      ],
      "metadata": {
        "colab": {
          "base_uri": "https://localhost:8080/"
        },
        "id": "RN0PpaFLzMYZ",
        "outputId": "21ed5ac9-f31e-4575-9a39-37ba4793a014"
      },
      "execution_count": 6,
      "outputs": [
        {
          "output_type": "stream",
          "name": "stdout",
          "text": [
            "Range of dataset: 10\n"
          ]
        }
      ]
    },
    {
      "cell_type": "code",
      "source": [
        "\"\"\" 6. Create a dataset and plot its histogram to visualize skewness.\"\"\"\n",
        "import numpy as np\n",
        "import matplotlib.pyplot as plt\n",
        "\n",
        "# Generating a sample dataset (positively skewed)\n",
        "data = np.random.exponential(scale=2, size=1000)\n",
        "\n",
        "# Plotting the histogram\n",
        "plt.hist(data, bins=30, edgecolor='black', alpha=0.7)\n",
        "plt.title(\"Histogram of Dataset\")\n",
        "plt.xlabel(\"Values\")\n",
        "plt.ylabel(\"Frequency\")\n",
        "plt.show()\n"
      ],
      "metadata": {
        "colab": {
          "base_uri": "https://localhost:8080/",
          "height": 472
        },
        "id": "U1YC64pmzkwo",
        "outputId": "6dc21651-2f7d-4d91-b3fe-b754cb251081"
      },
      "execution_count": 7,
      "outputs": [
        {
          "output_type": "display_data",
          "data": {
            "text/plain": [
              "<Figure size 640x480 with 1 Axes>"
            ],
            "image/png": "[encoded data removed]"
          },
          "metadata": {}
        }
      ]
    },
    {
      "cell_type": "code",
      "source": [
        "\"\"\" 7. Calculate skewness and kurtosis of a dataset using Python libraries.\"\"\"\n",
        "\n",
        "import numpy as np\n",
        "from scipy.stats import skew, kurtosis\n",
        "\n",
        "# Generating a dataset\n",
        "data = np.random.exponential(scale=2, size=1000)  # Positively skewed data\n",
        "\n",
        "# Calculate skewness\n",
        "skewness = skew(data)\n",
        "\n",
        "# Calculate kurtosis\n",
        "kurt = kurtosis(data)\n",
        "\n",
        "print(\"Skewness:\", skewness)\n",
        "print(\"Kurtosis:\", kurt)\n"
      ],
      "metadata": {
        "colab": {
          "base_uri": "https://localhost:8080/"
        },
        "id": "0tqxeSFjz_uU",
        "outputId": "5a9e04b2-06f5-4b34-f836-c0b0a1ee5907"
      },
      "execution_count": 8,
      "outputs": [
        {
          "output_type": "stream",
          "name": "stdout",
          "text": [
            "Skewness: 2.18620451604639\n",
            "Kurtosis: 8.117076448762766\n"
          ]
        }
      ]
    },
    {
      "cell_type": "code",
      "source": [
        "\"\"\" 8.  Generate a dataset and demonstrate positive and negative skewness.\"\"\"\n",
        "import numpy as np\n",
        "import matplotlib.pyplot as plt\n",
        "\n",
        "# Generating positively skewed data\n",
        "pos_skew = np.random.exponential(scale=2, size=1000)\n",
        "\n",
        "# Generating negatively skewed data (by inverting exponential data)\n",
        "neg_skew = -np.random.exponential(scale=2, size=1000)\n",
        "\n",
        "# Plotting histograms to visualise\n",
        "fig, axes = plt.subplots(1, 2, figsize=(12, 5))\n",
        "\n",
        "axes[0].hist(pos_skew, bins=30, edgecolor='black', alpha=0.7)\n",
        "axes[0].set_title(\"Positively Skewed Data\")\n",
        "\n",
        "axes[1].hist(neg_skew, bins=30, edgecolor='black', alpha=0.7)\n",
        "axes[1].set_title(\"Negatively Skewed Data\")\n",
        "\n",
        "plt.show()\n"
      ],
      "metadata": {
        "colab": {
          "base_uri": "https://localhost:8080/",
          "height": 468
        },
        "id": "hbVBLjr30TjQ",
        "outputId": "781a38d7-6d52-4dc8-bc11-90b976a2131a"
      },
      "execution_count": 9,
      "outputs": [
        {
          "output_type": "display_data",
          "data": {
            "text/plain": [
              "<Figure size 1200x500 with 2 Axes>"
            ],
            "image/png": "[encoded data removed]"
          },
          "metadata": {}
        }
      ]
    },
    {
      "cell_type": "code",
      "source": [
        "\"\"\" 9.  Write a Python script to calculate covariance between two datasets.\"\"\"\n",
        "\n",
        "import numpy as np\n",
        "\n",
        "x = [12, 15, 14, 10, 18, 20, 12, 15, 15, 14]\n",
        "y = [22, 25, 21, 19, 24, 27, 20, 23, 22, 21]\n",
        "\n",
        "# Calculating covariance\n",
        "cov_matrix = np.cov(x, y, bias=True)  # Population covariance\n",
        "\n",
        "covariance = cov_matrix[0, 1]\n",
        "\n",
        "print(\"Covariance between X and Y:\", covariance)\n"
      ],
      "metadata": {
        "colab": {
          "base_uri": "https://localhost:8080/"
        },
        "id": "KKIfUZ1b0wJ9",
        "outputId": "f9e67ec4-0adf-4ccf-eb5e-f7d7da6678d4"
      },
      "execution_count": 10,
      "outputs": [
        {
          "output_type": "stream",
          "name": "stdout",
          "text": [
            "Covariance between X and Y: 5.6000000000000005\n"
          ]
        }
      ]
    },
    {
      "cell_type": "code",
      "source": [
        "\"\"\" 10. Write a Python script to calculate the correlation coefficient between two datasets.\"\"\"\n",
        "\n",
        "import numpy as np\n",
        "\n",
        "x = [12, 15, 14, 10, 18, 20, 12, 15, 15, 14]\n",
        "y = [22, 25, 21, 19, 24, 27, 20, 23, 22, 21]\n",
        "\n",
        "# Calculate correlation coefficient\n",
        "correlation_matrix = np.corrcoef(x, y)\n",
        "\n",
        "correlation = correlation_matrix[0, 1]\n",
        "\n",
        "print(\"Correlation Coefficient between X and Y:\", correlation)\n"
      ],
      "metadata": {
        "colab": {
          "base_uri": "https://localhost:8080/"
        },
        "id": "wktyhEeA1D10",
        "outputId": "f6c2f384-64b1-454b-eba3-6f5d0bbae5c6"
      },
      "execution_count": 11,
      "outputs": [
        {
          "output_type": "stream",
          "name": "stdout",
          "text": [
            "Correlation Coefficient between X and Y: 0.8844874313776483\n"
          ]
        }
      ]
    },
    {
      "cell_type": "code",
      "source": [
        "\"\"\" 11. Create a scatter plot to visualize the relationship between two variables.\"\"\"\n",
        "import numpy as np\n",
        "import matplotlib.pyplot as plt\n",
        "\n",
        "x = [12, 15, 14, 10, 18, 20, 12, 15, 15, 14]\n",
        "y = [22, 25, 21, 19, 24, 27, 20, 23, 22, 21]\n",
        "\n",
        "# Creating scatter plot\n",
        "plt.scatter(x, y, color='blue', alpha=0.7, edgecolors='black')\n",
        "\n",
        "plt.xlabel(\"X Values\")\n",
        "plt.ylabel(\"Y Values\")\n",
        "plt.title(\"Scatter Plot of X vs Y\")\n",
        "\n",
        "plt.show()\n"
      ],
      "metadata": {
        "colab": {
          "base_uri": "https://localhost:8080/",
          "height": 472
        },
        "id": "0KSwFMwK1YlD",
        "outputId": "587c4e40-6058-4b4c-93f6-6133e022ba88"
      },
      "execution_count": 12,
      "outputs": [
        {
          "output_type": "display_data",
          "data": {
            "text/plain": [
              "<Figure size 640x480 with 1 Axes>"
            ],
            "image/png": "[encoded data removed]"
          },
          "metadata": {}
        }
      ]
    },
    {
      "cell_type": "code",
      "source": [
        "\"\"\" 12. Implement and compare simple random sampling and systematic sampling.\"\"\"\n",
        "\n",
        "import numpy as np\n",
        "import pandas as pd\n",
        "\n",
        "data = pd.DataFrame({\n",
        "    \"ID\": np.arange(1, 21),  # 20 sample points\n",
        "    \"Value\": np.random.randint(10, 100, size=20)  # Random values\n",
        "})\n",
        "\n",
        "# 1. Simple Random Sampling (5 random samples)\n",
        "random_sample = data.sample(n=5, random_state=42)\n",
        "\n",
        "# 2. Systematic Sampling (Every 4th element)\n",
        "systematic_sample = data.iloc[::4]  # Start from index 0 and pick every 4th row\n",
        "\n",
        "print(\"Simple Random Sample:\\n\", random_sample)\n",
        "print(\"\\nSystematic Sample:\\n\", systematic_sample)\n"
      ],
      "metadata": {
        "colab": {
          "base_uri": "https://localhost:8080/"
        },
        "id": "SxMQ7pLM1tOy",
        "outputId": "8290b0f5-16fa-43cb-cfd2-37688cfcf838"
      },
      "execution_count": 13,
      "outputs": [
        {
          "output_type": "stream",
          "name": "stdout",
          "text": [
            "Simple Random Sample:\n",
            "     ID  Value\n",
            "0    1     28\n",
            "17  18     83\n",
            "15  16     63\n",
            "1    2     56\n",
            "8    9     34\n",
            "\n",
            "Systematic Sample:\n",
            "     ID  Value\n",
            "0    1     28\n",
            "4    5     86\n",
            "8    9     34\n",
            "12  13     69\n",
            "16  17     49\n"
          ]
        }
      ]
    },
    {
      "cell_type": "code",
      "source": [
        "\"\"\" 13. Calculate the mean, median, and mode of grouped data.\"\"\"\n",
        "\n",
        "import numpy as np\n",
        "import pandas as pd\n",
        "from scipy import stats\n",
        "\n",
        "# Creating grouped data (class intervals and frequencies)\n",
        "data = {\n",
        "    \"Class Interval\": [\"0-10\", \"10-20\", \"20-30\", \"30-40\", \"40-50\"],\n",
        "    \"Frequency\": [5, 8, 15, 10, 7]\n",
        "}\n",
        "\n",
        "df = pd.DataFrame(data)\n",
        "\n",
        "# Finding class midpoints\n",
        "df[\"Midpoint\"] = df[\"Class Interval\"].apply(lambda x: (int(x.split(\"-\")[0]) + int(x.split(\"-\")[1])) / 2)\n",
        "\n",
        "# Calculating Mean (Σ f*x / Σ f)\n",
        "mean_value = np.sum(df[\"Midpoint\"] * df[\"Frequency\"]) / np.sum(df[\"Frequency\"])\n",
        "\n",
        "# Calculating Median\n",
        "cumulative_freq = np.cumsum(df[\"Frequency\"])\n",
        "n = np.sum(df[\"Frequency\"])\n",
        "median_class_index = np.where(cumulative_freq >= n/2)[0][0]  # First class with CF >= n/2\n",
        "\n",
        "# Extract class values\n",
        "L = int(df[\"Class Interval\"][median_class_index].split(\"-\")[0])\n",
        "F = df[\"Frequency\"][median_class_index]  # Median class frequency\n",
        "CF = cumulative_freq[median_class_index - 1] if median_class_index > 0 else 0\n",
        "h = int(df[\"Class Interval\"][median_class_index].split(\"-\")[1]) - L  # Class width\n",
        "\n",
        "# Median formula: L + [(n/2 - CF) / F] * h\n",
        "median_value = L + ((n/2 - CF) / F) * h\n",
        "\n",
        "# Mode formula: L + [(f1 - f0) / (2f1 - f0 - f2)] * h\n",
        "mode_class_index = df[\"Frequency\"].idxmax()  # Class with highest frequency\n",
        "L_mode = int(df[\"Class Interval\"][mode_class_index].split(\"-\")[0])\n",
        "f1 = df[\"Frequency\"][mode_class_index]\n",
        "f0 = df[\"Frequency\"][mode_class_index - 1] if mode_class_index > 0 else 0\n",
        "f2 = df[\"Frequency\"][mode_class_index + 1] if mode_class_index < len(df) - 1 else 0\n",
        "\n",
        "mode_value = L_mode + ((f1 - f0) / ((2 * f1) - f0 - f2)) * h\n",
        "\n",
        "print(\"Mean:\", mean_value)\n",
        "print(\"Median:\", median_value)\n",
        "print(\"Mode:\", mode_value)\n"
      ],
      "metadata": {
        "colab": {
          "base_uri": "https://localhost:8080/"
        },
        "id": "1U5rmfRo2Kh_",
        "outputId": "12c0656f-51e4-4022-fb9c-1d6deaa0056a"
      },
      "execution_count": 14,
      "outputs": [
        {
          "output_type": "stream",
          "name": "stdout",
          "text": [
            "Mean: 26.333333333333332\n",
            "Median: 26.333333333333332\n",
            "Mode: 25.833333333333336\n"
          ]
        }
      ]
    },
    {
      "cell_type": "code",
      "source": [
        "\"\"\" 14.  Simulate data using Python and calculate its central tendency and dispersion.\"\"\"\n",
        "import numpy as np\n",
        "import pandas as pd\n",
        "from scipy import stats\n",
        "\n",
        "np.random.seed(42)\n",
        "data = np.random.randint(10, 100, size=20)  # 20 random numbers between 10 and 100\n",
        "\n",
        "# Convert to DataFrame for better visualization\n",
        "df = pd.DataFrame(data, columns=[\"Values\"])\n",
        "\n",
        "# Calculate Central Tendency\n",
        "mean_value = np.mean(data)\n",
        "median_value = np.median(data)\n",
        "mode_value = stats.mode(data, keepdims=True).mode[0]\n",
        "\n",
        "# Calculate Dispersion\n",
        "variance_value = np.var(data, ddof=1)  # Sample variance\n",
        "std_dev_value = np.std(data, ddof=1)  # Sample standard deviation\n",
        "range_value = np.max(data) - np.min(data)  # Range\n",
        "\n",
        "print(\"Simulated Data:\\n\", df)\n",
        "print(\"\\nMean:\", mean_value)\n",
        "print(\"Median:\", median_value)\n",
        "print(\"Mode:\", mode_value)\n",
        "print(\"\\nVariance:\", variance_value)\n",
        "print(\"Standard Deviation:\", std_dev_value)\n",
        "print(\"Range:\", range_value)\n"
      ],
      "metadata": {
        "colab": {
          "base_uri": "https://localhost:8080/"
        },
        "id": "D_d1-UAO24qH",
        "outputId": "25ee711e-29dd-43bb-9e7a-969a2545f2cd"
      },
      "execution_count": 15,
      "outputs": [
        {
          "output_type": "stream",
          "name": "stdout",
          "text": [
            "Simulated Data:\n",
            "     Values\n",
            "0       61\n",
            "1       24\n",
            "2       81\n",
            "3       70\n",
            "4       30\n",
            "5       92\n",
            "6       96\n",
            "7       84\n",
            "8       84\n",
            "9       97\n",
            "10      33\n",
            "11      12\n",
            "12      31\n",
            "13      62\n",
            "14      11\n",
            "15      97\n",
            "16      39\n",
            "17      47\n",
            "18      11\n",
            "19      73\n",
            "\n",
            "Mean: 56.75\n",
            "Median: 61.5\n",
            "Mode: 11\n",
            "\n",
            "Variance: 957.671052631579\n",
            "Standard Deviation: 30.9462607213146\n",
            "Range: 86\n"
          ]
        }
      ]
    },
    {
      "cell_type": "code",
      "source": [
        "\"\"\" 15. Use NumPy or pandas to summarize a dataset’s descriptive statistics.\"\"\"\n",
        "\n",
        "import numpy as np\n",
        "import pandas as pd\n",
        "\n",
        "np.random.seed(42)\n",
        "data = np.random.randint(10, 100, size=20)  # 20 random numbers between 10 and 100\n",
        "\n",
        "df = pd.DataFrame(data, columns=[\"Values\"])\n",
        "\n",
        "# Summary statistics\n",
        "summary = df.describe()\n",
        "\n",
        "print(\"Dataset:\\n\", df)\n",
        "print(\"\\nDescriptive Statistics:\\n\", summary)\n"
      ],
      "metadata": {
        "colab": {
          "base_uri": "https://localhost:8080/"
        },
        "id": "3w6OxICi3Tk_",
        "outputId": "63da437f-f838-471c-fdb6-d00227fcdaef"
      },
      "execution_count": 16,
      "outputs": [
        {
          "output_type": "stream",
          "name": "stdout",
          "text": [
            "Dataset:\n",
            "     Values\n",
            "0       61\n",
            "1       24\n",
            "2       81\n",
            "3       70\n",
            "4       30\n",
            "5       92\n",
            "6       96\n",
            "7       84\n",
            "8       84\n",
            "9       97\n",
            "10      33\n",
            "11      12\n",
            "12      31\n",
            "13      62\n",
            "14      11\n",
            "15      97\n",
            "16      39\n",
            "17      47\n",
            "18      11\n",
            "19      73\n",
            "\n",
            "Descriptive Statistics:\n",
            "           Values\n",
            "count  20.000000\n",
            "mean   56.750000\n",
            "std    30.946261\n",
            "min    11.000000\n",
            "25%    30.750000\n",
            "50%    61.500000\n",
            "75%    84.000000\n",
            "max    97.000000\n"
          ]
        }
      ]
    },
    {
      "cell_type": "code",
      "source": [
        "\"\"\" 16. Plot a boxplot to understand the spread and identify outliers.\"\"\"\n",
        "\n",
        "import numpy as np\n",
        "import matplotlib.pyplot as plt\n",
        "import seaborn as sns\n",
        "\n",
        "np.random.seed(42)\n",
        "data = np.random.randint(10, 100, size=20)  # 20 random values between 10 and 100\n",
        "\n",
        "# Creating the boxplot\n",
        "plt.figure(figsize=(5, 5))\n",
        "sns.boxplot(y=data, color=\"skyblue\")\n",
        "\n",
        "plt.title(\"Boxplot of Dataset\")\n",
        "\n",
        "plt.show()\n"
      ],
      "metadata": {
        "colab": {
          "base_uri": "https://localhost:8080/",
          "height": 449
        },
        "id": "OLNK3TGR3l00",
        "outputId": "a0adbe72-cc60-4e65-d1d1-bb5b187f7ffe"
      },
      "execution_count": 20,
      "outputs": [
        {
          "output_type": "display_data",
          "data": {
            "text/plain": [
              "<Figure size 500x500 with 1 Axes>"
            ],
            "image/png": "[encoded data removed]"
          },
          "metadata": {}
        }
      ]
    },
    {
      "cell_type": "code",
      "source": [
        "\"\"\" 17. Calculate the interquartile range (IQR) of a dataset.\"\"\"\n",
        "\n",
        "import numpy as np\n",
        "\n",
        "data = [12, 15, 14, 10, 18, 20, 12, 15, 15, 14]\n",
        "\n",
        "# Compute Q1 (25th percentile) and Q3 (75th percentile)\n",
        "Q1 = np.percentile(data, 25)\n",
        "Q3 = np.percentile(data, 75)\n",
        "\n",
        "# Compute IQR\n",
        "IQR = Q3 - Q1\n",
        "\n",
        "print(\"Q1 (25th percentile):\", Q1)\n",
        "print(\"Q3 (75th percentile):\", Q3)\n",
        "print(\"Interquartile Range (IQR):\", IQR)\n"
      ],
      "metadata": {
        "colab": {
          "base_uri": "https://localhost:8080/"
        },
        "id": "sdCHn8t14IlL",
        "outputId": "26d4962b-1de1-45a1-fa40-967e226de2f1"
      },
      "execution_count": 21,
      "outputs": [
        {
          "output_type": "stream",
          "name": "stdout",
          "text": [
            "Q1 (25th percentile): 12.5\n",
            "Q3 (75th percentile): 15.0\n",
            "Interquartile Range (IQR): 2.5\n"
          ]
        }
      ]
    },
    {
      "cell_type": "code",
      "source": [
        "\"\"\" 18. Implement Z-score normalization and explain its significance.\"\"\"\n",
        "\n",
        "import numpy as np\n",
        "from scipy.stats import zscore\n",
        "\n",
        "data = np.array([12, 15, 14, 10, 18, 20, 12, 15, 15, 14])\n",
        "\n",
        "# Compute Z-scores\n",
        "z_scores = zscore(data)\n",
        "\n",
        "print(\"Original Data:\", data)\n",
        "print(\"Z-score Normalized Data:\", z_scores)\n",
        "\n",
        "\"\"\" Significance:\n",
        "*  Converts data into a standardized scale (mean = 0, std = 1).\n",
        "* Helps compare values across different distributions.\n",
        "* Useful in machine learning and outlier detection.\"\"\"\n",
        "\n"
      ],
      "metadata": {
        "colab": {
          "base_uri": "https://localhost:8080/",
          "height": 105
        },
        "id": "k4PCN6l54jlo",
        "outputId": "1b54857e-1bfc-4496-d3b2-4cfd8d462583"
      },
      "execution_count": 22,
      "outputs": [
        {
          "output_type": "stream",
          "name": "stdout",
          "text": [
            "Original Data: [12 15 14 10 18 20 12 15 15 14]\n",
            "Z-score Normalized Data: [-0.90387691  0.18077538 -0.18077538 -1.62697843  1.26542767  1.9885292\n",
            " -0.90387691  0.18077538  0.18077538 -0.18077538]\n"
          ]
        },
        {
          "output_type": "execute_result",
          "data": {
            "text/plain": [
              "' Significance:\\n*  Converts data into a standardized scale (mean = 0, std = 1).\\n* Helps compare values across different distributions.\\n* Useful in machine learning and outlier detection.'"
            ],
            "application/vnd.google.colaboratory.intrinsic+json": {
              "type": "string"
            }
          },
          "metadata": {},
          "execution_count": 22
        }
      ]
    },
    {
      "cell_type": "code",
      "source": [
        "\"\"\" 19. Compare two datasets using their standard deviations.\"\"\"\n",
        "\n",
        "import numpy as np\n",
        "\n",
        "# Generating two datasets\n",
        "data1 = np.random.randint(10, 50, size=20)  # Dataset 1 (less spread)\n",
        "data2 = np.random.randint(10, 100, size=20)  # Dataset 2 (wider spread)\n",
        "\n",
        "# Compute standard deviations\n",
        "std_dev1 = np.std(data1, ddof=1)  # Sample standard deviation\n",
        "std_dev2 = np.std(data2, ddof=1)\n",
        "\n",
        "print(\"Dataset 1 Standard Deviation:\", std_dev1)\n",
        "print(\"Dataset 2 Standard Deviation:\", std_dev2)\n",
        "\n",
        "# Compare spreads\n",
        "if std_dev1 > std_dev2:\n",
        "    print(\"Dataset 1 has a higher spread (more variation).\")\n",
        "elif std_dev1 < std_dev2:\n",
        "    print(\"Dataset 2 has a higher spread (more variation).\")\n",
        "else:\n",
        "    print(\"Both datasets have the same spread.\")\n"
      ],
      "metadata": {
        "colab": {
          "base_uri": "https://localhost:8080/"
        },
        "id": "RMj0HUDN5dEL",
        "outputId": "b3c655b5-5578-4c6b-b588-79cf5f50e414"
      },
      "execution_count": 23,
      "outputs": [
        {
          "output_type": "stream",
          "name": "stdout",
          "text": [
            "Dataset 1 Standard Deviation: 10.457306687569927\n",
            "Dataset 2 Standard Deviation: 30.044309383239106\n",
            "Dataset 2 has a higher spread (more variation).\n"
          ]
        }
      ]
    },
    {
      "cell_type": "code",
      "source": [
        "\"\"\" 20. Write a Python program to visualize covariance using a heatmap.\"\"\"\n",
        "\n",
        "import numpy as np\n",
        "import seaborn as sns\n",
        "import matplotlib.pyplot as plt\n",
        "import pandas as pd\n",
        "\n",
        "# Generating two correlated datasets\n",
        "np.random.seed(42)\n",
        "x = np.random.randint(10, 100, size=20)\n",
        "y = x + np.random.randint(-10, 10, size=20)  # Adding some variation\n",
        "\n",
        "# Creating a DataFrame\n",
        "df = pd.DataFrame({\"X\": x, \"Y\": y})\n",
        "\n",
        "# Compute covariance matrix\n",
        "cov_matrix = df.cov()\n",
        "\n",
        "# Plotting heatmap\n",
        "plt.figure(figsize=(5, 4))\n",
        "sns.heatmap(cov_matrix, annot=True, cmap=\"coolwarm\", fmt=\".2f\")\n",
        "\n",
        "plt.title(\"Covariance Heatmap\")\n",
        "plt.show()\n"
      ],
      "metadata": {
        "colab": {
          "base_uri": "https://localhost:8080/",
          "height": 391
        },
        "id": "mrDQdCOW6OnY",
        "outputId": "b6332483-2972-4b95-c803-a4525288a012"
      },
      "execution_count": 24,
      "outputs": [
        {
          "output_type": "display_data",
          "data": {
            "text/plain": [
              "<Figure size 500x400 with 2 Axes>"
            ],
            "image/png": "[encoded data removed]"
          },
          "metadata": {}
        }
      ]
    },
    {
      "cell_type": "code",
      "source": [
        "\"\"\" 21. Use Seaborn to create a correlation matrix for a dataset.\"\"\"\n",
        "\n",
        "\n",
        "import numpy as np\n",
        "import pandas as pd\n",
        "import seaborn as sns\n",
        "import matplotlib.pyplot as plt\n",
        "\n",
        "# Generating a dataset\n",
        "np.random.seed(42)\n",
        "data = {\n",
        "    \"Feature 1\": np.random.randint(10, 100, size=20),\n",
        "    \"Feature 2\": np.random.randint(10, 100, size=20),\n",
        "    \"Feature 3\": np.random.randint(10, 100, size=20)\n",
        "}\n",
        "\n",
        "df = pd.DataFrame(data)\n",
        "\n",
        "# Compute correlation matrix\n",
        "corr_matrix = df.corr()\n",
        "\n",
        "plt.figure(figsize=(5, 4))\n",
        "sns.heatmap(corr_matrix, annot=True, cmap=\"coolwarm\", fmt=\".2f\")\n",
        "\n",
        "plt.title(\"Correlation Matrix Heatmap\")\n",
        "plt.show()\n"
      ],
      "metadata": {
        "colab": {
          "base_uri": "https://localhost:8080/",
          "height": 391
        },
        "id": "gCXt6rdA6lWn",
        "outputId": "404c23e7-923a-454c-98d6-258ecf9f77e0"
      },
      "execution_count": 25,
      "outputs": [
        {
          "output_type": "display_data",
          "data": {
            "text/plain": [
              "<Figure size 500x400 with 2 Axes>"
            ],
            "image/png": "[encoded data removed]"
          },
          "metadata": {}
        }
      ]
    },
    {
      "cell_type": "code",
      "source": [
        "\"\"\" 22. Generate a dataset and implement both variance and standard deviation computations.\"\"\"\n",
        "\n",
        "import numpy as np\n",
        "\n",
        "np.random.seed(42)\n",
        "data = np.random.randint(10, 100, size=20)\n",
        "\n",
        "# Compute Variance\n",
        "variance = np.var(data, ddof=1)\n",
        "\n",
        "# Compute Standard Deviation\n",
        "std_dev = np.std(data, ddof=1)\n",
        "\n",
        "print(\"Dataset:\", data)\n",
        "print(\"Variance:\", variance)\n",
        "print(\"Standard Deviation:\", std_dev)\n"
      ],
      "metadata": {
        "colab": {
          "base_uri": "https://localhost:8080/"
        },
        "id": "J3Nf2o2e650p",
        "outputId": "412c20b8-643a-4856-d358-ec09d366e63a"
      },
      "execution_count": 26,
      "outputs": [
        {
          "output_type": "stream",
          "name": "stdout",
          "text": [
            "Dataset: [61 24 81 70 30 92 96 84 84 97 33 12 31 62 11 97 39 47 11 73]\n",
            "Variance: 957.671052631579\n",
            "Standard Deviation: 30.9462607213146\n"
          ]
        }
      ]
    },
    {
      "cell_type": "code",
      "source": [
        "\"\"\" 23. Visualize skewness and kurtosis using Python libraries like Matplotlib or Seaborn.\"\"\"\n",
        "\n",
        "import numpy as np\n",
        "import matplotlib.pyplot as plt\n",
        "import seaborn as sns\n",
        "from scipy.stats import skew, kurtosis\n",
        "\n",
        "# Generating a dataset (positively skewed)\n",
        "np.random.seed(42)\n",
        "data = np.random.exponential(scale=2, size=1000)\n",
        "\n",
        "skewness = skew(data)\n",
        "kurt = kurtosis(data)\n",
        "\n",
        "plt.figure(figsize=(6, 4))\n",
        "sns.histplot(data, bins=30, kde=True, color=\"Green\")\n",
        "\n",
        "plt.title(f\"Histogram of Data\\nSkewness: {skewness:.2f}, Kurtosis: {kurt:.2f}\")\n",
        "plt.xlabel(\"Values\")\n",
        "plt.ylabel(\"Frequency\")\n",
        "\n",
        "plt.show()\n"
      ],
      "metadata": {
        "colab": {
          "base_uri": "https://localhost:8080/",
          "height": 431
        },
        "id": "xFSYYhfp7Nai",
        "outputId": "af6dcfbd-c3af-49d2-b30a-cb7c33d3ee20"
      },
      "execution_count": 28,
      "outputs": [
        {
          "output_type": "display_data",
          "data": {
            "text/plain": [
              "<Figure size 600x400 with 1 Axes>"
            ],
            "image/png": "[encoded data removed]"
          },
          "metadata": {}
        }
      ]
    },
    {
      "cell_type": "code",
      "source": [
        "\"\"\" 24.  Implement the Pearson and Spearman correlation coefficients for a dataset.\"\"\"\n",
        "\n",
        "import numpy as np\n",
        "from scipy.stats import pearsonr, spearmanr\n",
        "\n",
        "x = [12, 15, 14, 10, 18, 20, 12, 15, 15, 14]\n",
        "y = [22, 25, 21, 19, 24, 27, 20, 23, 22, 21]\n",
        "\n",
        "# Compute Pearson correlation\n",
        "pearson_corr, _ = pearsonr(x, y)\n",
        "\n",
        "# Compute Spearman correlation\n",
        "spearman_corr, _ = spearmanr(x, y)\n",
        "\n",
        "print(\"Pearson Correlation Coefficient:\", pearson_corr)\n",
        "print(\"Spearman Correlation Coefficient:\", spearman_corr)\n"
      ],
      "metadata": {
        "colab": {
          "base_uri": "https://localhost:8080/"
        },
        "id": "DF9MoYKz7kNv",
        "outputId": "3e82ed5b-acb0-428d-bae7-5045da2d9d24"
      },
      "execution_count": 29,
      "outputs": [
        {
          "output_type": "stream",
          "name": "stdout",
          "text": [
            "Pearson Correlation Coefficient: 0.8844874313776482\n",
            "Spearman Correlation Coefficient: 0.8851614671978908\n"
          ]
        }
      ]
    }
  ]
}